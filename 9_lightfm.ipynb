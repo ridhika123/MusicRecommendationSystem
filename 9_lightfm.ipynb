{
 "cells": [
  {
   "cell_type": "code",
   "execution_count": null,
   "id": "3d11ad14",
   "metadata": {},
   "outputs": [],
   "source": [
    "import pandas as pd\n",
    "import numpy as np\n",
    "from lightfm import LightFM\n",
    "from lightfm.data import Dataset\n",
    "from lightfm.evaluation import precision_at_k\n",
    "import time "
   ]
  },
  {
   "cell_type": "markdown",
   "id": "a60f45b1",
   "metadata": {},
   "source": [
    "## Reading in Files"
   ]
  },
  {
   "cell_type": "code",
   "execution_count": null,
   "id": "6e8df6b6",
   "metadata": {},
   "outputs": [],
   "source": [
    "# reading in files > 3\n",
    "utility_train_filtered = pd.read_parquet('utility_train_local_all_filtered.parquet')\n",
    "utility_val_filtered = pd.read_parquet('utility_val_local_all_filtered.parquet')"
   ]
  },
  {
   "cell_type": "code",
   "execution_count": null,
   "id": "0c7cab4d",
   "metadata": {},
   "outputs": [],
   "source": [
    "# reading in files > 10\n",
    "utility_train_filtered10 = pd.read_parquet('utility_train_local_all_filtered10.parquet')\n",
    "utility_val_filtered10 = pd.read_parquet('utility_val_local_all_filtered10.parquet')"
   ]
  },
  {
   "cell_type": "code",
   "execution_count": null,
   "id": "3f5095b1",
   "metadata": {},
   "outputs": [],
   "source": [
    "# reading in test\n",
    "utility_test = pd.read_parquet('utility_test_local_all.parquet')"
   ]
  },
  {
   "cell_type": "markdown",
   "id": "5b46206f",
   "metadata": {},
   "source": [
    "## Model > 10"
   ]
  },
  {
   "cell_type": "markdown",
   "id": "b8bdcddf",
   "metadata": {},
   "source": [
    "### Train"
   ]
  },
  {
   "cell_type": "code",
   "execution_count": 9,
   "id": "4a8aa82c",
   "metadata": {},
   "outputs": [],
   "source": [
    "user_id_train = utility_train_filtered10['user_id'].unique().astype('int64')\n",
    "song_id_train = utility_train_filtered10['song_id'].unique().astype('int64')"
   ]
  },
  {
   "cell_type": "code",
   "execution_count": 11,
   "id": "296d039e",
   "metadata": {},
   "outputs": [],
   "source": [
    "data = Dataset()\n",
    "data.fit(user_id_train, song_id_train)"
   ]
  },
  {
   "cell_type": "code",
   "execution_count": 12,
   "id": "b806640f",
   "metadata": {},
   "outputs": [],
   "source": [
    "train_values = utility_train_filtered.values.astype('int64')\n",
    "train, weights_matrix_train = data.build_interactions([tuple(i) for i in train_values])"
   ]
  },
  {
   "cell_type": "code",
   "execution_count": 1,
   "id": "0bd31631",
   "metadata": {},
   "outputs": [],
   "source": [
    "# 8 threads\n",
    "start_time = time.time()\n",
    "model = LightFM(loss='warp')\n",
    "model.fit(train, epochs = 50, num_threads = 8)\n",
    "end_time = time.time()\n",
    "print(\"Time taken to run the model with 8 thread is\", end_time - start_time)"
   ]
  },
  {
   "cell_type": "code",
   "execution_count": 13,
   "id": "018616cd",
   "metadata": {},
   "outputs": [],
   "source": [
    "# 1 threads\n",
    "start_time = time.time()\n",
    "model = LightFM(loss='warp')\n",
    "model.fit(train, epochs = 50, num_threads = 1)\n",
    "end_time = time.time()\n",
    "print(\"Time taken to run the model with 1 thread is\", end_time - start_time)"
   ]
  },
  {
   "cell_type": "code",
   "execution_count": null,
   "id": "1e36e01a",
   "metadata": {},
   "outputs": [],
   "source": [
    "training_map = precision_at_k(model, train, k = 100, num_threads = 8).mean()\n",
    "print(\"The precision at 100 of training data is\", training_map)"
   ]
  },
  {
   "cell_type": "markdown",
   "id": "4c087eb7",
   "metadata": {},
   "source": [
    "### Test"
   ]
  },
  {
   "cell_type": "code",
   "execution_count": 16,
   "id": "cab14c9d",
   "metadata": {},
   "outputs": [],
   "source": [
    "utility_test_filtered = utility_test[utility_test['user_id'].isin(user_id_train)].reset_index(drop = True)\n",
    "utility_test_filtered = utility_test_filtered[utility_test_filtered['song_id'].isin(song_id_train)]\\\n",
    "                        .reset_index(drop = True)"
   ]
  },
  {
   "cell_type": "code",
   "execution_count": 19,
   "id": "0846b232",
   "metadata": {},
   "outputs": [],
   "source": [
    "test_values = utility_test_filtered.values.astype('int64')\n",
    "test, weights_matrix_test = data.build_interactions([tuple(i) for i in test_values])"
   ]
  },
  {
   "cell_type": "code",
   "execution_count": 3,
   "id": "51741b1d",
   "metadata": {},
   "outputs": [],
   "source": [
    "# test precision\n",
    "test_map = precision_at_k(model, test, k = 100, num_threads = 8).mean()\n",
    "print(\"The precision at 100 of test data is\", test_map)"
   ]
  },
  {
   "cell_type": "markdown",
   "id": "98e5ea01",
   "metadata": {},
   "source": [
    "## Model > 3"
   ]
  },
  {
   "cell_type": "markdown",
   "id": "aff56f7e",
   "metadata": {},
   "source": [
    "### Train"
   ]
  },
  {
   "cell_type": "code",
   "execution_count": 9,
   "id": "d9a0b276",
   "metadata": {},
   "outputs": [],
   "source": [
    "user_id_train = utility_train_filtered['user_id'].unique().astype('int64')\n",
    "song_id_train = utility_train_filtered['song_id'].unique().astype('int64')"
   ]
  },
  {
   "cell_type": "code",
   "execution_count": 11,
   "id": "78f7f609",
   "metadata": {},
   "outputs": [],
   "source": [
    "data = Dataset()\n",
    "data.fit(user_id_train, song_id_train)"
   ]
  },
  {
   "cell_type": "code",
   "execution_count": 12,
   "id": "868c3095",
   "metadata": {},
   "outputs": [],
   "source": [
    "train_values = utility_train_filtered.values.astype('int64')\n",
    "train, weights_matrix_train = data.build_interactions([tuple(i) for i in train_values])"
   ]
  },
  {
   "cell_type": "code",
   "execution_count": 4,
   "id": "95be3486",
   "metadata": {},
   "outputs": [],
   "source": [
    "# 8 threads\n",
    "start_time = time.time()\n",
    "model = LightFM(loss='warp')\n",
    "model.fit(train, epochs = 50, num_threads = 8)\n",
    "end_time = time.time()\n",
    "print(\"Time taken to run the model with 8 thread is\", end_time - start_time)"
   ]
  },
  {
   "cell_type": "code",
   "execution_count": 13,
   "id": "e8e95dc6",
   "metadata": {},
   "outputs": [],
   "source": [
    "# 1 threads\n",
    "start_time = time.time()\n",
    "model = LightFM(loss='warp')\n",
    "model.fit(train, epochs = 50, num_threads = 1)\n",
    "end_time = time.time()\n",
    "print(\"Time taken to run the model with 1 thread is\", end_time - start_time)"
   ]
  },
  {
   "cell_type": "code",
   "execution_count": null,
   "id": "5c881fbe",
   "metadata": {},
   "outputs": [],
   "source": [
    "training_map = precision_at_k(model, train, k = 100, num_threads = 8).mean()\n",
    "print(\"The precision at 100 of training data is\", training_map)"
   ]
  },
  {
   "cell_type": "markdown",
   "id": "655d11c8",
   "metadata": {},
   "source": [
    "### Test"
   ]
  },
  {
   "cell_type": "code",
   "execution_count": 16,
   "id": "15e180e2",
   "metadata": {},
   "outputs": [],
   "source": [
    "utility_test_filtered = utility_test[utility_test['user_id'].isin(user_id_train)].reset_index(drop = True)\n",
    "utility_test_filtered = utility_test_filtered[utility_test_filtered['song_id'].isin(song_id_train)]\\\n",
    "                        .reset_index(drop = True)"
   ]
  },
  {
   "cell_type": "code",
   "execution_count": 19,
   "id": "ec4a3b5f",
   "metadata": {},
   "outputs": [],
   "source": [
    "test_values = utility_test_filtered.values.astype('int64')\n",
    "test, weights_matrix_test = data.build_interactions([tuple(i) for i in test_values])"
   ]
  },
  {
   "cell_type": "code",
   "execution_count": 2,
   "id": "93ef372e",
   "metadata": {},
   "outputs": [],
   "source": [
    "# test precision\n",
    "test_map = precision_at_k(model, test, k = 100, num_threads = 8).mean()\n",
    "print(\"The precision at 100 of test data is\", test_map)"
   ]
  }
 ],
 "metadata": {
  "kernelspec": {
   "display_name": "Python 3 (ipykernel)",
   "language": "python",
   "name": "python3"
  },
  "language_info": {
   "codemirror_mode": {
    "name": "ipython",
    "version": 3
   },
   "file_extension": ".py",
   "mimetype": "text/x-python",
   "name": "python",
   "nbconvert_exporter": "python",
   "pygments_lexer": "ipython3",
   "version": "3.9.13"
  }
 },
 "nbformat": 4,
 "nbformat_minor": 5
}
